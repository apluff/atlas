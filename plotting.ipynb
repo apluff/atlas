{
 "cells": [
  {
   "cell_type": "markdown",
   "id": "b56ac329-f26c-4ff9-907d-a45f72f7f53f",
   "metadata": {
    "tags": []
   },
   "source": [
    "## Imports"
   ]
  },
  {
   "cell_type": "code",
   "execution_count": null,
   "id": "07c2e2ed-97c4-4fe2-b917-0d043e0ea3c8",
   "metadata": {},
   "outputs": [],
   "source": [
    "from common import *\n",
    "from surface import *\n",
    "from streamlines import *"
   ]
  },
  {
   "cell_type": "code",
   "execution_count": null,
   "id": "fc3b034b-4e85-4667-a8e1-ef4b1ea692df",
   "metadata": {},
   "outputs": [],
   "source": [
    "from ipywidgets import Layout, interact, IntSlider, FloatSlider\n",
    "import matplotlib.pyplot as plt\n",
    "from matplotlib import cm\n",
    "%matplotlib inline\n",
    "plt.rcParams[\"figure.dpi\"] = 100\n",
    "plt.rcParams[\"axes.grid\"] = False"
   ]
  },
  {
   "cell_type": "markdown",
   "id": "5c972016-4b11-4825-a3f8-84eee7f5a5d6",
   "metadata": {
    "tags": []
   },
   "source": [
    "## Plotting functions"
   ]
  },
  {
   "cell_type": "code",
   "execution_count": null,
   "id": "b1c15836-b6b1-49c4-a7d6-dfae8fb9589b",
   "metadata": {},
   "outputs": [],
   "source": [
    "def select(arr, surf_vals=(V_SB, V_ST, V_SE), region=REGION):\n",
    "    \"\"\"Select values from a 3D or 4D volume corresponding to a surface or another region.\n",
    "    \n",
    "    Return i, j, k, v, where i, j, k are the indices of the voxels, and v are scalar or \n",
    "    vector values of the array at those voxels.\n",
    "    \"\"\"\n",
    "    i, j, k = get_surface_indices(region, surf_vals).T\n",
    "    v = arr[i, j, k, ...]\n",
    "    return i, j, k, v"
   ]
  },
  {
   "cell_type": "code",
   "execution_count": null,
   "id": "9282fb7b-6d46-457e-acf9-dfde4d0eda62",
   "metadata": {},
   "outputs": [],
   "source": [
    "def barebone(ax):\n",
    "    ax.set_facecolor(cm.get_cmap('viridis')(0))\n",
    "    ax.set_xticks([])\n",
    "    ax.set_yticks([])"
   ]
  },
  {
   "cell_type": "code",
   "execution_count": null,
   "id": "f2571688-f5ae-4783-84e0-789b7279646a",
   "metadata": {},
   "outputs": [],
   "source": [
    "def plot_volume(scalar, vector=None, streamlines=None, max_streamlines=10_000, all_projections=True):\n",
    "    n, m, p = scalar.shape[:3]\n",
    "    vmin = scalar.min()\n",
    "    vmax = scalar.max()\n",
    "    \n",
    "    imshow_kwargs = dict(interpolation='none', origin='upper', vmin=vmin, vmax=vmax)\n",
    "    interact_kwargs = dict(a=(0.0, 1.0, 0.01))\n",
    "    f_kwargs = dict(a=.5)\n",
    "    quiver_kwargs = dict(scale=30, width=.003, alpha=.35)\n",
    "    streamlines_kwargs = dict(color='w', lw=2, alpha=.15)\n",
    "    title_kwargs = dict(color='w')\n",
    "    \n",
    "    if vector is not None:\n",
    "        assert vector.ndim == 4\n",
    "        assert vector.shape[3] == 3\n",
    "        i, j, k, v = select(vector)\n",
    "        interact_kwargs['show_vector'] = True\n",
    "        f_kwargs['show_vector'] = True\n",
    "        \n",
    "    if streamlines is not None:\n",
    "        streamlines_subset = subset(streamlines, max_streamlines)\n",
    "        interact_kwargs['show_streamlines'] = True\n",
    "        f_kwargs['show_streamlines'] = True\n",
    "    \n",
    "    @interact(**interact_kwargs)\n",
    "    def f(**f_kwargs):\n",
    "        a = f_kwargs.get('a', None)\n",
    "        show_vector = f_kwargs.get('show_vector', False)\n",
    "        show_streamlines = f_kwargs.get('show_streamlines', False)\n",
    "        \n",
    "        fig, axes = plt.subplots(1, 3 if all_projections else 1, figsize=(18, 12))\n",
    "        \n",
    "        # HACK\n",
    "        if not all_projections:\n",
    "            axes = [axes]\n",
    "        \n",
    "        ai = np.clip(int(round(n*a)), 0, n-1)\n",
    "        aj = np.clip(int(round(m*a)), 0, m-1)\n",
    "        ak = np.clip(int(round(p*a)), 0, p-1)\n",
    "        \n",
    "        axes[0].imshow(scalar[ai, :, :], **imshow_kwargs)\n",
    "        barebone(axes[0])\n",
    "        axes[0].set_title('Coronal', **title_kwargs)\n",
    "        \n",
    "        if all_projections:\n",
    "            axes[1].imshow(scalar[:, aj, :], **imshow_kwargs)\n",
    "            axes[2].imshow(scalar[:, :, ak], **imshow_kwargs)\n",
    "\n",
    "            barebone(axes[1])\n",
    "            barebone(axes[2])\n",
    "\n",
    "            axes[1].set_title('Transverse', **title_kwargs)\n",
    "            axes[2].set_title('Sagittal', **title_kwargs)\n",
    "\n",
    "        if vector is not None and show_vector:\n",
    "            step = 3\n",
    "            idxq = np.nonzero(i == ai)[0][::step]\n",
    "            axes[0].quiver(k[idxq], j[idxq], v[idxq, 2], -v[idxq, 1], **quiver_kwargs)\n",
    "            \n",
    "            if all_projections:\n",
    "                idxq = np.nonzero(j == aj)[0][::step]\n",
    "                axes[1].quiver(k[idxq], i[idxq], v[idxq, 2], -v[idxq, 0], **quiver_kwargs)\n",
    "\n",
    "                idxq = np.nonzero(k == ak)[0][::step]\n",
    "                axes[2].quiver(j[idxq], i[idxq], v[idxq, 1], -v[idxq, 0], **quiver_kwargs)\n",
    "        \n",
    "        if streamlines is not None and show_streamlines:\n",
    "            pz = streamlines_subset[:, :, 0]\n",
    "            pidx = (ai-2 <= pz[:, :]) & (pz[:, :] <= ai+2)\n",
    "            which = pidx.max(axis=1) > 0\n",
    "            axes[0].plot(streamlines_subset[which, :, 2].T, streamlines_subset[which, :, 1].T, **streamlines_kwargs);\n",
    "            \n",
    "            if all_projections:\n",
    "                pz = streamlines_subset[:, :, 1]\n",
    "                pidx = (aj-2 <= pz[:, :]) & (pz[:, :] <= aj+2)\n",
    "                which = pidx.max(axis=1) > 0\n",
    "                axes[1].plot(streamlines_subset[which, :, 2].T, streamlines_subset[which, :, 0].T, **streamlines_kwargs);\n",
    "\n",
    "                pz = streamlines_subset[:, :, 2]\n",
    "                pidx = (ak-2 <= pz[:, :]) & (pz[:, :] <= ak+2)\n",
    "                which = pidx.max(axis=1) > 0\n",
    "                axes[2].plot(streamlines_subset[which, :, 1].T, streamlines_subset[which, :, 0].T, **streamlines_kwargs);\n",
    "  "
   ]
  },
  {
   "cell_type": "markdown",
   "id": "499cf612-874f-4e8f-a376-c8771d2f2759",
   "metadata": {
    "tags": []
   },
   "source": [
    "## Loading arrays"
   ]
  },
  {
   "cell_type": "code",
   "execution_count": null,
   "id": "f496813a-78dc-47a3-be05-7feff68aa13b",
   "metadata": {},
   "outputs": [],
   "source": [
    "mask = load_npy(filepath(REGION, 'mask'))\n",
    "normal = get_normal(REGION)\n",
    "laplacian = load_npy(filepath(REGION, 'laplacian'))\n",
    "gradient = load_npy(filepath(REGION, 'gradient'))\n",
    "streamlines = load_npy(filepath(REGION, 'streamlines'))"
   ]
  },
  {
   "cell_type": "markdown",
   "id": "9d1d8873-4970-4556-9d29-5dce0fed21da",
   "metadata": {},
   "source": [
    "## Plots"
   ]
  },
  {
   "cell_type": "raw",
   "id": "9f14daa3-1a2a-467b-bc81-3cfa5dfc144b",
   "metadata": {},
   "source": [
    "plot_volume(mask, vector=normal, all_projections=False)"
   ]
  },
  {
   "cell_type": "code",
   "execution_count": null,
   "id": "f922786f-c9af-4086-a43c-0de1f439a983",
   "metadata": {},
   "outputs": [],
   "source": [
    "plot_volume(laplacian, streamlines=streamlines)"
   ]
  },
  {
   "cell_type": "code",
   "execution_count": null,
   "id": "df606365-8817-423d-870a-a34c29d90445",
   "metadata": {},
   "outputs": [],
   "source": []
  }
 ],
 "metadata": {
  "kernelspec": {
   "display_name": "Python 3 (ipykernel)",
   "language": "python",
   "name": "python3"
  },
  "language_info": {
   "codemirror_mode": {
    "name": "ipython",
    "version": 3
   },
   "file_extension": ".py",
   "mimetype": "text/x-python",
   "name": "python",
   "nbconvert_exporter": "python",
   "pygments_lexer": "ipython3",
   "version": "3.10.4"
  }
 },
 "nbformat": 4,
 "nbformat_minor": 5
}
