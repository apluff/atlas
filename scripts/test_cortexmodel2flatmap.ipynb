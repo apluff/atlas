{
 "cells": [
  {
   "cell_type": "code",
   "execution_count": 31,
   "id": "c5c0fe3c-dfb2-4f2c-aa94-f1a5de6f677c",
   "metadata": {},
   "outputs": [],
   "source": [
    "import numpy as np\n",
    "from stl import mesh\n",
    "import nrrd\n",
    "import matplotlib.pyplot as plt"
   ]
  },
  {
   "cell_type": "code",
   "execution_count": 3,
   "id": "4043f499-cb2c-42ed-b9cf-25d9a5750e7d",
   "metadata": {},
   "outputs": [],
   "source": [
    "# Load the cortex 3D model (area 315L.stl)\n",
    "cortexMesh = mesh.Mesh.from_file('315L.stl')"
   ]
  },
  {
   "cell_type": "code",
   "execution_count": 18,
   "id": "8cb8f72b-afeb-4e64-844f-12c58c609f4d",
   "metadata": {},
   "outputs": [],
   "source": [
    "# Load the 10um annotation file (annotation_10.nrrd)\n",
    "ann10, meta = nrrd.read('annotation_10.nrrd')"
   ]
  },
  {
   "cell_type": "code",
   "execution_count": 33,
   "id": "c2ba91a1-33a0-4da5-ae2c-d1178bfa072f",
   "metadata": {},
   "outputs": [
    {
     "data": {
      "text/plain": [
       "-5.7000976"
      ]
     },
     "execution_count": 33,
     "metadata": {},
     "output_type": "execute_result"
    }
   ],
   "source": [
    "# Figure out if any triangles are on slice 550\n",
    "np.min(cortexMesh.vectors.flatten())"
   ]
  },
  {
   "cell_type": "code",
   "execution_count": 36,
   "id": "1cb07ee2-f89c-4486-b806-7e68a8f62b3e",
   "metadata": {},
   "outputs": [
    {
     "data": {
      "text/plain": [
       "<matplotlib.collections.PathCollection at 0x1b684df5910>"
      ]
     },
     "execution_count": 36,
     "metadata": {},
     "output_type": "execute_result"
    },
    {
     "data": {
      "image/png": "[encoded data removed]",
      "text/plain": [
       "<Figure size 432x288 with 1 Axes>"
      ]
     },
     "metadata": {
      "needs_background": "light"
     },
     "output_type": "display_data"
    }
   ],
   "source": [
    "plt.imshow(ann10[550,:,:]>0)\n",
    "plt.scatter(500,400)"
   ]
  },
  {
   "cell_type": "code",
   "execution_count": 37,
   "id": "14697c5c-feb3-4661-ab41-0e4bded6345e",
   "metadata": {},
   "outputs": [],
   "source": [
    "# Convert vertices to ccf coordinate range\n",
    "triangles = cortexMesh.vectors"
   ]
  },
  {
   "cell_type": "code",
   "execution_count": 38,
   "id": "1d544bae-1992-4147-b0ba-28e75043dd99",
   "metadata": {},
   "outputs": [
    {
     "data": {
      "text/plain": [
       "array([[[ 1.        ,  1.        ,  1.        ],\n",
       "        [-1.        ,  1.        ,  1.        ],\n",
       "        [-1.        , -1.        ,  1.        ]],\n",
       "\n",
       "       [[ 1.        ,  1.        ,  1.        ],\n",
       "        [-1.        , -1.        ,  1.        ],\n",
       "        [ 1.        , -1.        ,  1.        ]],\n",
       "\n",
       "       [[ 1.        , -1.        , -1.        ],\n",
       "        [ 1.        , -1.        ,  1.        ],\n",
       "        [-1.        , -1.        ,  1.        ]],\n",
       "\n",
       "       ...,\n",
       "\n",
       "       [[ 4.949526  , -5.6872573 ,  2.503526  ],\n",
       "        [ 5.024174  , -5.6999993 ,  2.505147  ],\n",
       "        [ 5.051348  , -5.6999993 ,  2.489845  ]],\n",
       "\n",
       "       [[ 4.962468  , -5.6999993 ,  2.540203  ],\n",
       "        [ 5.024174  , -5.6999993 ,  2.505147  ],\n",
       "        [ 4.949526  , -5.6872573 ,  2.503526  ]],\n",
       "\n",
       "       [[ 6.779313  , -5.686976  ,  0.80125207],\n",
       "        [ 6.873751  , -5.695036  ,  0.77136403],\n",
       "        [ 6.739595  , -5.699999  ,  0.770685  ]]], dtype=float32)"
      ]
     },
     "execution_count": 38,
     "metadata": {},
     "output_type": "execute_result"
    }
   ],
   "source": [
    "for i, triangle in enumerate(triangles):\n",
    "    "
   ]
  },
  {
   "cell_type": "code",
   "execution_count": 16,
   "id": "b6bbbde1-489c-4e70-89e2-16eefabe2270",
   "metadata": {},
   "outputs": [
    {
     "data": {
      "text/plain": [
       "(32934, 3, 3)"
      ]
     },
     "execution_count": 16,
     "metadata": {},
     "output_type": "execute_result"
    }
   ],
   "source": [
    "cortexMesh.vectors.shape"
   ]
  },
  {
   "cell_type": "code",
   "execution_count": 14,
   "id": "492d2404-0985-4e75-9197-7f38514b3144",
   "metadata": {},
   "outputs": [
    {
     "name": "stdout",
     "output_type": "stream",
     "text": [
      "[1. 1. 1.]\n",
      "[-1.  1.  1.]\n",
      "[-1.  1.  1.]\n"
     ]
    }
   ],
   "source": [
    "# triangle #0\n",
    "# vertice #0\n",
    "print(cortexMesh.vectors[0][0])\n",
    "# triangle #0\n",
    "# vertice #1\n",
    "print(cortexMesh.vectors[0][1])\n",
    "# triangle #0\n",
    "# vertice #2\n",
    "print(cortexMesh.vectors[0][1])"
   ]
  },
  {
   "cell_type": "code",
   "execution_count": null,
   "id": "7102be26-57f6-4969-882b-eeb7a2c5f5af",
   "metadata": {},
   "outputs": [],
   "source": [
    "\n",
    "# Compute some visualizations to see where the triangles vertices land inside the annotation atlas\n",
    "\n",
    "# For every triangle, determine if the triangle's three vertices are in the surface mask (isocortex_mask_10.nrrd)\n",
    "\n",
    "# Remove all triangles that are outside of the surface mask\n",
    "\n",
    "# Save to a new file (then, load in Blender, compute UV mask from surface, export)"
   ]
  },
  {
   "cell_type": "code",
   "execution_count": null,
   "id": "80812f07-8115-4f94-b64b-68dd98e04ea0",
   "metadata": {},
   "outputs": [],
   "source": [
    "# Load the UV file for the cortex surface\n",
    "\n",
    "# Convert to a flatmap, based on how dorsal_flatmap.npy runs, using the new streamlines from Cyrille and/or the streamlines from Allen"
   ]
  }
 ],
 "metadata": {
  "kernelspec": {
   "display_name": "Python 3 (ipykernel)",
   "language": "python",
   "name": "python3"
  },
  "language_info": {
   "codemirror_mode": {
    "name": "ipython",
    "version": 3
   },
   "file_extension": ".py",
   "mimetype": "text/x-python",
   "name": "python",
   "nbconvert_exporter": "python",
   "pygments_lexer": "ipython3",
   "version": "3.9.10"
  }
 },
 "nbformat": 4,
 "nbformat_minor": 5
}
